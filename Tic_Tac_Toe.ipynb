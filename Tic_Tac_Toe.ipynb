print('Welcome to Tic Tac Toe!')

while True:
    # Set the game up here
    game_board = [' ']*10
    game_board[0] = '#'
    
    first_player, second_player = player_input()
    turn = choose_first()
    print('First will go '+turn)
    
    game_on = start()
    while game_on:
        display_board(game_board)
        #print(game_board)
        #print(full_board_check(game_board))
        #Player 1 Turn
       
        if turn == 'Player 1':
            print(f'{turn} playes by {first_player}')
            posit1 = player_choice(game_board)
            place_marker(game_board, first_player, posit1)
            display_board(game_board)
            if win_check(game_board, first_player):
                print('First player WIN! Congrats')
                game_on = False 
            elif not full_board_check(game_board):
                display_board(game_board)
                print('Game is over, no more steps')
                break
            else:
                turn = 'Player 2'
        # Player2's turn.
        if turn == 'Player 2':
            print(f'{turn} playes by {second_player}')
            posit2 = player_choice(game_board)
            place_marker(game_board, second_player, posit2)
            display_board(game_board)
            if win_check(game_board, second_player):
                print('Second player WIN! Congrats')
                game_on = False 
            elif not full_board_check(game_board):
                display_board(game_board)
                print('Game is over, no more steps')
                break
            else:
                turn = 'Player 1'

    if not replay():
        break
